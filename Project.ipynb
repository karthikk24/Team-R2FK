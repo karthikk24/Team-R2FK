{
 "cells": [
  {
   "cell_type": "code",
   "execution_count": null,
   "metadata": {},
   "outputs": [],
   "source": [
    "# Dependencies\n",
    "import csv\n",
    "import matplotlib.pyplot as plt\n",
    "import requests\n",
    "import pandas as pd\n",
    "import numpy as np\n",
    "from pprint import pprint\n",
    "from config import api_key1, api_key2"
   ]
  },
  {
   "cell_type": "code",
   "execution_count": null,
   "metadata": {},
   "outputs": [],
   "source": [
    "url = \"https://api.nasa.gov/neo/rest/v1/neo/browse?api_key=gzBvVGiFEKMOUKe2a3RX0xNX9RPoGbz1x53zQSN1\"\n",
    "units = \"metric\"\n",
    "\n",
    "response=requests.get(url).json()\n",
    "pprint(response)"
   ]
  },
  {
   "cell_type": "code",
   "execution_count": null,
   "metadata": {},
   "outputs": [],
   "source": [
    "name_page = []\n",
    "danger = []\n",
    "abs_mag = []\n",
    "while_break = []\n",
    "close_approach_date=[]\n",
    "miles_per_hour = []\n",
    "miss_distance=[]\n",
    "first_observation_date=[]\n",
    "last_observation_date=[]\n",
    "\n",
    "# below is the code to loop through the individual pages, and make lists of some of the various information we are looking to pull out,\n",
    "# I am still trying to work on switching out API's in the middle of the request. I do not recommend running it because it will lock out the API for an hour.\n",
    "\n",
    "\n",
    "#while url:\n",
    "#    response = requests.get(url).json()\n",
    "#    for x in range(len(response['near_earth_objects'])):\n",
    "#        name_page.append(response['near_earth_objects'][x]['name'])\n",
    "#        danger.append(response['near_earth_objects'][x]['is_potentially_hazardous_asteroid'])\n",
    "#        abs_mag.append(response['near_earth_objects'][x]['absolute_magnitude_h']) \n",
    "#        close_approach_date.append(response['near_earth_objects'][0]['close_approach_data'][0]['close_approach_date'])\n",
    "#        miles_per_hour.append(response['near_earth_objects'][0]['close_approach_data'][0]['relative_velocity']['miles_per_hour'])\n",
    "#        miss_distance.append(response['near_earth_objects'][0]['close_approach_data'][0]['miss_distance']['miles'])\n",
    "#        first_observation_date.append(response['near_earth_objects'][0]['orbital_data']['first_observation_date'])\n",
    "#        last_observation_date.append(response['near_earth_objects'][0]['orbital_data']['last_observation_date'])\n",
    "#url = response['links'].get('next')\n",
    "\n",
    "astroid_df = pd.DataFrame(\n",
    "    {'Name': name_page,\n",
    "     'Is Potentially Hazardous': danger,\n",
    "     'Absolute Magnitude': abs_mag,\n",
    "     'Close Approach Date': close_approach_date,\n",
    "     'Miles per Hour': miles_per_hour,\n",
    "     'Miss Distance':miss_distance,\n",
    "     'First Observationv Date': first_observation_date,\n",
    "     'Last Observationv Date': last_observation_date\n",
    "    })"
   ]
  }
 ],
 "metadata": {
  "kernelspec": {
   "display_name": "Python 3",
   "language": "python",
   "name": "python3"
  },
  "language_info": {
   "codemirror_mode": {
    "name": "ipython",
    "version": 3
   },
   "file_extension": ".py",
   "mimetype": "text/x-python",
   "name": "python",
   "nbconvert_exporter": "python",
   "pygments_lexer": "ipython3",
   "version": "3.7.0"
  }
 },
 "nbformat": 4,
 "nbformat_minor": 2
}
